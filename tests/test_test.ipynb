{
 "cells": [
  {
   "cell_type": "code",
   "execution_count": 1,
   "metadata": {},
   "outputs": [],
   "source": [
    "%load_ext autoreload\n",
    "%autoreload 2"
   ]
  },
  {
   "cell_type": "code",
   "execution_count": 2,
   "metadata": {},
   "outputs": [],
   "source": [
    "from typing import List, Optional, Iterable\n"
   ]
  },
  {
   "cell_type": "code",
   "execution_count": 3,
   "metadata": {},
   "outputs": [
    {
     "name": "stdout",
     "output_type": "stream",
     "text": [
      "Kernel is started\n"
     ]
    }
   ],
   "source": [
    "import smart_import\n",
    "\n",
    "import numpy as np\n",
    "from quanalys.acquisition_utils import AcquisitionManager, AcquisitionLoop, AnalysisManager, AnalysisData\n",
    "# from quanalys.acquisition_notebook import acquisition_cell"
   ]
  },
  {
   "cell_type": "code",
   "execution_count": 4,
   "metadata": {},
   "outputs": [],
   "source": [
    "AcquisitionManager()\n",
    "AcquisitionManager.data_directory = 'tmp_data'\n",
    "AcquisitionManager.create_new_acquisition(\"test\")\n"
   ]
  },
  {
   "cell_type": "code",
   "execution_count": 5,
   "metadata": {},
   "outputs": [],
   "source": [
    "def acquire_sine(freq, points):\n",
    "    x = np.linspace(0, 10*np.pi, points)\n",
    "    y = np.sin(freq*2*np.pi*x)\n",
    "    return x, y"
   ]
  },
  {
   "cell_type": "code",
   "execution_count": 9,
   "metadata": {},
   "outputs": [],
   "source": [
    "points = 101\n",
    "freqs = np.linspace(0, 0.4, 10)\n",
    "\n",
    "\n",
    "loop = AcquisitionLoop()\n",
    "for t in loop(freqs):\n",
    "    for freq in loop(freqs):\n",
    "        x, y = acquire_sine(freq, points)\n",
    "        loop.append_data(y=y, freq=freq) \n",
    "    loop.append_data(x=x, tau=t)  # type: ignore\n",
    "AcquisitionManager.save_acquisition(loop_freq=loop)"
   ]
  },
  {
   "cell_type": "code",
   "execution_count": 17,
   "metadata": {},
   "outputs": [],
   "source": [
    "AcquisitionManager.create_new_acquisition(\"test\")"
   ]
  },
  {
   "cell_type": "code",
   "execution_count": 18,
   "metadata": {},
   "outputs": [],
   "source": [
    "aqd = AcquisitionManager.current_acquisition"
   ]
  },
  {
   "cell_type": "code",
   "execution_count": 21,
   "metadata": {},
   "outputs": [],
   "source": [
    "aqd.save_on_edit = True"
   ]
  },
  {
   "cell_type": "code",
   "execution_count": 33,
   "metadata": {},
   "outputs": [
    {
     "data": {
      "text/plain": [
       "'tmp_data/test/2022-12-20_01-12-43_test.h5'"
      ]
     },
     "execution_count": 33,
     "metadata": {},
     "output_type": "execute_result"
    }
   ],
   "source": [
    "aqd.save()"
   ]
  },
  {
   "cell_type": "code",
   "execution_count": 35,
   "metadata": {},
   "outputs": [],
   "source": [
    "aqd.update(y=[[2,3],[3,4]])"
   ]
  },
  {
   "cell_type": "code",
   "execution_count": 38,
   "metadata": {},
   "outputs": [
    {
     "data": {
      "text/plain": [
       "AnalysisData: \n",
       " {\n",
       "    \"x\": \"shape: (2,) (type: ndarray)\",\n",
       "    \"y\": \"shape: (2, 2) (type: ndarray)\",\n",
       "    \"z\": \"variable of type int64\"\n",
       "}"
      ]
     },
     "execution_count": 38,
     "metadata": {},
     "output_type": "execute_result"
    }
   ],
   "source": [
    "fullpath = AcquisitionManager.current_filepath\n",
    "am = AnalysisManager(fullpath)\n",
    "data = am.analysis_data\n",
    "data"
   ]
  },
  {
   "cell_type": "code",
   "execution_count": 11,
   "metadata": {},
   "outputs": [
    {
     "data": {
      "text/plain": [
       "AnalysisData: \n",
       " {\n",
       "    \"loop_freq\": \"variable of type AnalysisLoop\"\n",
       "}"
      ]
     },
     "execution_count": 11,
     "metadata": {},
     "output_type": "execute_result"
    }
   ],
   "source": [
    "data"
   ]
  },
  {
   "cell_type": "code",
   "execution_count": 21,
   "metadata": {},
   "outputs": [],
   "source": [
    "for d in data.loop_freq:\n",
    "    for dd in d:\n",
    "        break\n",
    "    break"
   ]
  },
  {
   "cell_type": "code",
   "execution_count": 24,
   "metadata": {},
   "outputs": [
    {
     "data": {
      "text/plain": [
       "array([0.        , 0.04444444, 0.08888889, 0.13333333, 0.17777778,\n",
       "       0.22222222, 0.26666667, 0.31111111, 0.35555556, 0.4       ])"
      ]
     },
     "execution_count": 24,
     "metadata": {},
     "output_type": "execute_result"
    }
   ],
   "source": [
    "d.freq"
   ]
  },
  {
   "cell_type": "code",
   "execution_count": 25,
   "metadata": {},
   "outputs": [
    {
     "data": {
      "text/plain": [
       "0.0"
      ]
     },
     "execution_count": 25,
     "metadata": {},
     "output_type": "execute_result"
    }
   ],
   "source": [
    "dd.freq"
   ]
  },
  {
   "cell_type": "code",
   "execution_count": 46,
   "metadata": {},
   "outputs": [
    {
     "data": {
      "text/plain": [
       "['y', 'x', 'get', 'items', 'keys', 'pop', 'update', 'values']"
      ]
     },
     "execution_count": 46,
     "metadata": {},
     "output_type": "execute_result"
    }
   ],
   "source": [
    "list(data._attrs) + data._default_attr"
   ]
  },
  {
   "cell_type": "code",
   "execution_count": 49,
   "metadata": {},
   "outputs": [
    {
     "data": {
      "text/plain": [
       "AnalysisData: \n",
       " {\n",
       "    \"a\": \"2 (type : int)\",\n",
       "    \"x\": \"shape: (101,) (type: ndarray)\",\n",
       "    \"y\": \"shape: (101,) (type: ndarray)\"\n",
       "}"
      ]
     },
     "execution_count": 49,
     "metadata": {},
     "output_type": "execute_result"
    }
   ],
   "source": [
    "data."
   ]
  },
  {
   "cell_type": "code",
   "execution_count": 34,
   "metadata": {},
   "outputs": [
    {
     "name": "stdout",
     "output_type": "stream",
     "text": [
      "custom getting attribute _ipython_canary_method_should_not_exist_\n",
      "custom getting attribute _ipython_display_\n",
      "custom getting attribute _ipython_canary_method_should_not_exist_\n",
      "custom getting attribute _repr_mimebundle_\n",
      "custom settin _repr\n",
      "custom getting attribute _ipython_canary_method_should_not_exist_\n",
      "custom getting attribute _repr_html_\n",
      "custom getting attribute _ipython_canary_method_should_not_exist_\n",
      "custom getting attribute _repr_markdown_\n",
      "custom getting attribute _ipython_canary_method_should_not_exist_\n",
      "custom getting attribute _repr_svg_\n",
      "custom getting attribute _ipython_canary_method_should_not_exist_\n",
      "custom getting attribute _repr_png_\n",
      "custom getting attribute _ipython_canary_method_should_not_exist_\n",
      "custom getting attribute _repr_pdf_\n",
      "custom getting attribute _ipython_canary_method_should_not_exist_\n",
      "custom getting attribute _repr_jpeg_\n",
      "custom getting attribute _ipython_canary_method_should_not_exist_\n",
      "custom getting attribute _repr_latex_\n",
      "custom getting attribute _ipython_canary_method_should_not_exist_\n",
      "custom getting attribute _repr_json_\n",
      "custom getting attribute _ipython_canary_method_should_not_exist_\n",
      "custom getting attribute _repr_javascript_\n"
     ]
    },
    {
     "data": {
      "text/plain": [
       "AnalysisData: \n",
       " {\n",
       "    \"w\": \"2 (type : int)\",\n",
       "    \"x\": \"2 (type : int)\",\n",
       "    \"y\": \"shape: (101,) (type: ndarray)\"\n",
       "}"
      ]
     },
     "execution_count": 34,
     "metadata": {},
     "output_type": "execute_result"
    }
   ],
   "source": [
    "data."
   ]
  },
  {
   "cell_type": "code",
   "execution_count": 29,
   "metadata": {},
   "outputs": [
    {
     "data": {
      "text/plain": [
       "2"
      ]
     },
     "execution_count": 29,
     "metadata": {},
     "output_type": "execute_result"
    }
   ],
   "source": [
    "data.get('w')"
   ]
  },
  {
   "cell_type": "code",
   "execution_count": 23,
   "metadata": {},
   "outputs": [],
   "source": [
    "data.update(z=2)"
   ]
  },
  {
   "cell_type": "code",
   "execution_count": 31,
   "metadata": {},
   "outputs": [
    {
     "data": {
      "text/plain": [
       "dict_keys(['x', 'y', 'w'])"
      ]
     },
     "execution_count": 31,
     "metadata": {},
     "output_type": "execute_result"
    }
   ],
   "source": [
    "data.keys()"
   ]
  },
  {
   "cell_type": "code",
   "execution_count": 10,
   "metadata": {},
   "outputs": [
    {
     "name": "stdout",
     "output_type": "stream",
     "text": [
      "custom getting attribute x\n"
     ]
    },
    {
     "data": {
      "text/plain": [
       "array([ 0.        ,  0.31415927,  0.62831853,  0.9424778 ,  1.25663706,\n",
       "        1.57079633,  1.88495559,  2.19911486,  2.51327412,  2.82743339,\n",
       "        3.14159265,  3.45575192,  3.76991118,  4.08407045,  4.39822972,\n",
       "        4.71238898,  5.02654825,  5.34070751,  5.65486678,  5.96902604,\n",
       "        6.28318531,  6.59734457,  6.91150384,  7.2256631 ,  7.53982237,\n",
       "        7.85398163,  8.1681409 ,  8.48230016,  8.79645943,  9.1106187 ,\n",
       "        9.42477796,  9.73893723, 10.05309649, 10.36725576, 10.68141502,\n",
       "       10.99557429, 11.30973355, 11.62389282, 11.93805208, 12.25221135,\n",
       "       12.56637061, 12.88052988, 13.19468915, 13.50884841, 13.82300768,\n",
       "       14.13716694, 14.45132621, 14.76548547, 15.07964474, 15.393804  ,\n",
       "       15.70796327, 16.02212253, 16.3362818 , 16.65044106, 16.96460033,\n",
       "       17.27875959, 17.59291886, 17.90707813, 18.22123739, 18.53539666,\n",
       "       18.84955592, 19.16371519, 19.47787445, 19.79203372, 20.10619298,\n",
       "       20.42035225, 20.73451151, 21.04867078, 21.36283004, 21.67698931,\n",
       "       21.99114858, 22.30530784, 22.61946711, 22.93362637, 23.24778564,\n",
       "       23.5619449 , 23.87610417, 24.19026343, 24.5044227 , 24.81858196,\n",
       "       25.13274123, 25.44690049, 25.76105976, 26.07521902, 26.38937829,\n",
       "       26.70353756, 27.01769682, 27.33185609, 27.64601535, 27.96017462,\n",
       "       28.27433388, 28.58849315, 28.90265241, 29.21681168, 29.53097094,\n",
       "       29.84513021, 30.15928947, 30.47344874, 30.78760801, 31.10176727,\n",
       "       31.41592654])"
      ]
     },
     "execution_count": 10,
     "metadata": {},
     "output_type": "execute_result"
    }
   ],
   "source": [
    "data."
   ]
  },
  {
   "cell_type": "code",
   "execution_count": 15,
   "metadata": {},
   "outputs": [
    {
     "data": {
      "text/plain": [
       "array([[ 0.        ,  0.        ,  0.        , ...,  0.        ,\n",
       "         0.        ,  0.        ],\n",
       "       [ 0.        ,  0.08761732,  0.17456073, ...,  0.73607667,\n",
       "         0.67393787,  0.60661541],\n",
       "       [ 0.        ,  0.17456073,  0.3437612 , ..., -0.99649791,\n",
       "        -0.99579446, -0.96451297],\n",
       "       ...,\n",
       "       [ 0.        ,  0.57623032,  0.9418915 , ..., -0.47273682,\n",
       "        -0.89413809, -0.98879869],\n",
       "       [ 0.        ,  0.64562279,  0.98606805, ..., -0.32863877,\n",
       "         0.35879499,  0.87663101],\n",
       "       [ 0.        ,  0.71004939,  0.99996522, ...,  0.91764679,\n",
       "         0.36399121, -0.40503661]])"
      ]
     },
     "execution_count": 15,
     "metadata": {},
     "output_type": "execute_result"
    }
   ],
   "source": [
    "d.y"
   ]
  },
  {
   "cell_type": "code",
   "execution_count": 51,
   "metadata": {},
   "outputs": [],
   "source": [
    "AnalysisData()._repr"
   ]
  },
  {
   "cell_type": "code",
   "execution_count": 38,
   "metadata": {},
   "outputs": [
    {
     "name": "stdout",
     "output_type": "stream",
     "text": [
      "AnalysisData: \n",
      " {\n",
      "    \"freq\": \"0.000e+00 (type : float64)\",\n",
      "    \"x\": \"shape: (101,) (type: ndarray)\",\n",
      "    \"y\": \"shape: (101,) (type: ndarray)\"\n",
      "}\n",
      "AnalysisData: \n",
      " {\n",
      "    \"freq\": \"4.444e-02 (type : float64)\",\n",
      "    \"x\": \"shape: (101,) (type: ndarray)\",\n",
      "    \"y\": \"shape: (101,) (type: ndarray)\"\n",
      "}\n",
      "AnalysisData: \n",
      " {\n",
      "    \"freq\": \"8.889e-02 (type : float64)\",\n",
      "    \"x\": \"shape: (101,) (type: ndarray)\",\n",
      "    \"y\": \"shape: (101,) (type: ndarray)\"\n",
      "}\n",
      "AnalysisData: \n",
      " {\n",
      "    \"freq\": \"0.133 (type : float64)\",\n",
      "    \"x\": \"shape: (101,) (type: ndarray)\",\n",
      "    \"y\": \"shape: (101,) (type: ndarray)\"\n",
      "}\n",
      "AnalysisData: \n",
      " {\n",
      "    \"freq\": \"0.178 (type : float64)\",\n",
      "    \"x\": \"shape: (101,) (type: ndarray)\",\n",
      "    \"y\": \"shape: (101,) (type: ndarray)\"\n",
      "}\n",
      "AnalysisData: \n",
      " {\n",
      "    \"freq\": \"0.222 (type : float64)\",\n",
      "    \"x\": \"shape: (101,) (type: ndarray)\",\n",
      "    \"y\": \"shape: (101,) (type: ndarray)\"\n",
      "}\n",
      "AnalysisData: \n",
      " {\n",
      "    \"freq\": \"0.267 (type : float64)\",\n",
      "    \"x\": \"shape: (101,) (type: ndarray)\",\n",
      "    \"y\": \"shape: (101,) (type: ndarray)\"\n",
      "}\n",
      "AnalysisData: \n",
      " {\n",
      "    \"freq\": \"0.311 (type : float64)\",\n",
      "    \"x\": \"shape: (101,) (type: ndarray)\",\n",
      "    \"y\": \"shape: (101,) (type: ndarray)\"\n",
      "}\n",
      "AnalysisData: \n",
      " {\n",
      "    \"freq\": \"0.356 (type : float64)\",\n",
      "    \"x\": \"shape: (101,) (type: ndarray)\",\n",
      "    \"y\": \"shape: (101,) (type: ndarray)\"\n",
      "}\n",
      "AnalysisData: \n",
      " {\n",
      "    \"freq\": \"0.400 (type : float64)\",\n",
      "    \"x\": \"shape: (101,) (type: ndarray)\",\n",
      "    \"y\": \"shape: (101,) (type: ndarray)\"\n",
      "}\n"
     ]
    },
    {
     "name": "stderr",
     "output_type": "stream",
     "text": [
      "[autoreload of quanalys.acquisition_utils.analysis_data failed: Traceback (most recent call last):\n",
      "  File \"/Users/4cd87a/opt/anaconda3/envs/phd_mask/lib/python3.10/site-packages/IPython/extensions/autoreload.py\", line 257, in check\n",
      "    superreload(m, reload, self.old_objects)\n",
      "  File \"/Users/4cd87a/opt/anaconda3/envs/phd_mask/lib/python3.10/site-packages/IPython/extensions/autoreload.py\", line 480, in superreload\n",
      "    update_generic(old_obj, new_obj)\n",
      "  File \"/Users/4cd87a/opt/anaconda3/envs/phd_mask/lib/python3.10/site-packages/IPython/extensions/autoreload.py\", line 377, in update_generic\n",
      "    update(a, b)\n",
      "  File \"/Users/4cd87a/opt/anaconda3/envs/phd_mask/lib/python3.10/site-packages/IPython/extensions/autoreload.py\", line 329, in update_class\n",
      "    if update_generic(old_obj, new_obj):\n",
      "  File \"/Users/4cd87a/opt/anaconda3/envs/phd_mask/lib/python3.10/site-packages/IPython/extensions/autoreload.py\", line 377, in update_generic\n",
      "    update(a, b)\n",
      "  File \"/Users/4cd87a/opt/anaconda3/envs/phd_mask/lib/python3.10/site-packages/IPython/extensions/autoreload.py\", line 289, in update_function\n",
      "    setattr(old, name, getattr(new, name))\n",
      "ValueError: update() requires a code object with 0 free vars, not 1\n",
      "]\n"
     ]
    }
   ],
   "source": [
    "for d in data.loop_freq: \n",
    "    print(d)"
   ]
  },
  {
   "cell_type": "code",
   "execution_count": 17,
   "metadata": {},
   "outputs": [
    {
     "data": {
      "text/plain": [
       "<quanalys.acquisition_utils.analysis_loop.AnalysisLoop at 0x7fa7603c6440>"
      ]
     },
     "execution_count": 17,
     "metadata": {},
     "output_type": "execute_result"
    }
   ],
   "source": [
    "data.loop_freq"
   ]
  },
  {
   "cell_type": "code",
   "execution_count": 22,
   "metadata": {},
   "outputs": [
    {
     "data": {
      "text/plain": [
       "True"
      ]
     },
     "execution_count": 22,
     "metadata": {},
     "output_type": "execute_result"
    }
   ],
   "source": [
    "from typing import Iterable\n",
    "\n",
    "\n",
    "isinstance(np.array([1,2]), Iterable)"
   ]
  },
  {
   "cell_type": "code",
   "execution_count": 23,
   "metadata": {},
   "outputs": [],
   "source": [
    "taus = np.linspace(0, 0.3, 5)"
   ]
  },
  {
   "cell_type": "code",
   "execution_count": 24,
   "metadata": {},
   "outputs": [],
   "source": [
    "AcquisitionManager()\n",
    "AcquisitionManager.data_directory = 'tmp_data'\n",
    "AcquisitionManager.create_new_acquisition(\"test\")"
   ]
  },
  {
   "cell_type": "code",
   "execution_count": 25,
   "metadata": {},
   "outputs": [],
   "source": [
    "loop = AcquisitionLoop()\n",
    "\n",
    "for tau in loop(taus):\n",
    "    loop.append_data(tau=tau)\n",
    "    for freq in loop(freqs):\n",
    "        x, y = acquire_sine(freq, points)\n",
    "        loop.append_data(y=y, freq=freq)\n",
    "loop.append_data(x=x)  # type: ignore\n",
    "\n",
    "AcquisitionManager.save_acquisition(loop_tau_freq=loop)\n"
   ]
  },
  {
   "cell_type": "code",
   "execution_count": 67,
   "metadata": {},
   "outputs": [
    {
     "name": "stdout",
     "output_type": "stream",
     "text": [
      "tmp_data/test/2022-12-16_20-53-45_test\n",
      "setting AnalysisLoop\n",
      "set item loop_tau_freq <quanalys.acquisition_utils.analysis_loop.AnalysisLoop object at 0x7fa740ca4340>\n"
     ]
    }
   ],
   "source": [
    "fullpath = AcquisitionManager.current_acquisition.filepath\n",
    "print(fullpath)\n",
    "am = AnalysisManager(fullpath)\n",
    "data = am.analysis_data"
   ]
  },
  {
   "cell_type": "code",
   "execution_count": 70,
   "metadata": {},
   "outputs": [],
   "source": [
    "for d in data.loop_tau_freq: \n",
    "    for dd in d: \n",
    "        break"
   ]
  },
  {
   "cell_type": "code",
   "execution_count": 74,
   "metadata": {},
   "outputs": [
    {
     "data": {
      "text/plain": [
       "array([ 0.        ,  0.31415927,  0.62831853,  0.9424778 ,  1.25663706,\n",
       "        1.57079633,  1.88495559,  2.19911486,  2.51327412,  2.82743339,\n",
       "        3.14159265,  3.45575192,  3.76991118,  4.08407045,  4.39822972,\n",
       "        4.71238898,  5.02654825,  5.34070751,  5.65486678,  5.96902604,\n",
       "        6.28318531,  6.59734457,  6.91150384,  7.2256631 ,  7.53982237,\n",
       "        7.85398163,  8.1681409 ,  8.48230016,  8.79645943,  9.1106187 ,\n",
       "        9.42477796,  9.73893723, 10.05309649, 10.36725576, 10.68141502,\n",
       "       10.99557429, 11.30973355, 11.62389282, 11.93805208, 12.25221135,\n",
       "       12.56637061, 12.88052988, 13.19468915, 13.50884841, 13.82300768,\n",
       "       14.13716694, 14.45132621, 14.76548547, 15.07964474, 15.393804  ,\n",
       "       15.70796327, 16.02212253, 16.3362818 , 16.65044106, 16.96460033,\n",
       "       17.27875959, 17.59291886, 17.90707813, 18.22123739, 18.53539666,\n",
       "       18.84955592, 19.16371519, 19.47787445, 19.79203372, 20.10619298,\n",
       "       20.42035225, 20.73451151, 21.04867078, 21.36283004, 21.67698931,\n",
       "       21.99114858, 22.30530784, 22.61946711, 22.93362637, 23.24778564,\n",
       "       23.5619449 , 23.87610417, 24.19026343, 24.5044227 , 24.81858196,\n",
       "       25.13274123, 25.44690049, 25.76105976, 26.07521902, 26.38937829,\n",
       "       26.70353756, 27.01769682, 27.33185609, 27.64601535, 27.96017462,\n",
       "       28.27433388, 28.58849315, 28.90265241, 29.21681168, 29.53097094,\n",
       "       29.84513021, 30.15928947, 30.47344874, 30.78760801, 31.10176727,\n",
       "       31.41592654])"
      ]
     },
     "execution_count": 74,
     "metadata": {},
     "output_type": "execute_result"
    }
   ],
   "source": [
    "dd.x"
   ]
  },
  {
   "cell_type": "code",
   "execution_count": 69,
   "metadata": {},
   "outputs": [],
   "source": [
    "d = data.loop_tau_freq"
   ]
  },
  {
   "cell_type": "code",
   "execution_count": 58,
   "metadata": {},
   "outputs": [
    {
     "data": {
      "text/plain": [
       "5"
      ]
     },
     "execution_count": 58,
     "metadata": {},
     "output_type": "execute_result"
    }
   ],
   "source": [
    "d.loop_shape[0]"
   ]
  },
  {
   "cell_type": "code",
   "execution_count": 65,
   "metadata": {},
   "outputs": [
    {
     "name": "stdout",
     "output_type": "stream",
     "text": [
      "freq\n",
      "tau\n",
      "x\n",
      "y\n"
     ]
    }
   ],
   "source": [
    "from typing import Sequence\n",
    "\n",
    "\n",
    "child_kwds = {}\n",
    "for key, value in d._data.items():\n",
    "    if key[:1] == '_':\n",
    "        continue\n",
    "    print(key)\n",
    "    if not isinstance(value, Iterable):\n",
    "        print(\"not sequential\")\n",
    "        child_kwds[key] = value\n",
    "    elif len(value) == 1:\n",
    "        child_kwds[key] = value[0]\n",
    "    else:\n",
    "        child_kwds[key] = value[0]"
   ]
  },
  {
   "cell_type": "code",
   "execution_count": 66,
   "metadata": {},
   "outputs": [
    {
     "data": {
      "text/plain": [
       "{'freq': array([0.        , 0.04444444, 0.08888889, 0.13333333, 0.17777778,\n",
       "        0.22222222, 0.26666667, 0.31111111, 0.35555556, 0.4       ]),\n",
       " 'tau': array([0.]),\n",
       " 'x': array([[ 0.        ,  0.31415927,  0.62831853,  0.9424778 ,  1.25663706,\n",
       "          1.57079633,  1.88495559,  2.19911486,  2.51327412,  2.82743339,\n",
       "          3.14159265,  3.45575192,  3.76991118,  4.08407045,  4.39822972,\n",
       "          4.71238898,  5.02654825,  5.34070751,  5.65486678,  5.96902604,\n",
       "          6.28318531,  6.59734457,  6.91150384,  7.2256631 ,  7.53982237,\n",
       "          7.85398163,  8.1681409 ,  8.48230016,  8.79645943,  9.1106187 ,\n",
       "          9.42477796,  9.73893723, 10.05309649, 10.36725576, 10.68141502,\n",
       "         10.99557429, 11.30973355, 11.62389282, 11.93805208, 12.25221135,\n",
       "         12.56637061, 12.88052988, 13.19468915, 13.50884841, 13.82300768,\n",
       "         14.13716694, 14.45132621, 14.76548547, 15.07964474, 15.393804  ,\n",
       "         15.70796327, 16.02212253, 16.3362818 , 16.65044106, 16.96460033,\n",
       "         17.27875959, 17.59291886, 17.90707813, 18.22123739, 18.53539666,\n",
       "         18.84955592, 19.16371519, 19.47787445, 19.79203372, 20.10619298,\n",
       "         20.42035225, 20.73451151, 21.04867078, 21.36283004, 21.67698931,\n",
       "         21.99114858, 22.30530784, 22.61946711, 22.93362637, 23.24778564,\n",
       "         23.5619449 , 23.87610417, 24.19026343, 24.5044227 , 24.81858196,\n",
       "         25.13274123, 25.44690049, 25.76105976, 26.07521902, 26.38937829,\n",
       "         26.70353756, 27.01769682, 27.33185609, 27.64601535, 27.96017462,\n",
       "         28.27433388, 28.58849315, 28.90265241, 29.21681168, 29.53097094,\n",
       "         29.84513021, 30.15928947, 30.47344874, 30.78760801, 31.10176727,\n",
       "         31.41592654]]),\n",
       " 'y': array([[ 0.        ,  0.        ,  0.        , ...,  0.        ,\n",
       "          0.        ,  0.        ],\n",
       "        [ 0.        ,  0.08761732,  0.17456073, ...,  0.73607667,\n",
       "          0.67393787,  0.60661541],\n",
       "        [ 0.        ,  0.17456073,  0.3437612 , ..., -0.99649791,\n",
       "         -0.99579446, -0.96451297],\n",
       "        ...,\n",
       "        [ 0.        ,  0.57623032,  0.9418915 , ..., -0.47273682,\n",
       "         -0.89413809, -0.98879869],\n",
       "        [ 0.        ,  0.64562279,  0.98606805, ..., -0.32863877,\n",
       "          0.35879499,  0.87663101],\n",
       "        [ 0.        ,  0.71004939,  0.99996522, ...,  0.91764679,\n",
       "          0.36399121, -0.40503661]])}"
      ]
     },
     "execution_count": 66,
     "metadata": {},
     "output_type": "execute_result"
    }
   ],
   "source": [
    "child_kwds"
   ]
  },
  {
   "cell_type": "code",
   "execution_count": 81,
   "metadata": {},
   "outputs": [
    {
     "data": {
      "text/plain": [
       "False"
      ]
     },
     "execution_count": 81,
     "metadata": {},
     "output_type": "execute_result"
    }
   ],
   "source": [
    "isinstance(np.array([123,3123]), Sequence)"
   ]
  },
  {
   "cell_type": "code",
   "execution_count": 79,
   "metadata": {},
   "outputs": [
    {
     "data": {
      "text/plain": [
       "True"
      ]
     },
     "execution_count": 79,
     "metadata": {},
     "output_type": "execute_result"
    }
   ],
   "source": [
    "isinstance(\"jkjk\", Iterable)"
   ]
  },
  {
   "cell_type": "code",
   "execution_count": 82,
   "metadata": {},
   "outputs": [],
   "source": [
    "def test1():\n",
    "    a = [1,2,3]\n",
    "    return hasattr(a, \"__getitem__\")\n",
    "\n",
    "def test2():\n",
    "    a = [1,2,3]\n",
    "    return not isinstance(a, Iterable) or isinstance(a, (str, bytes))"
   ]
  },
  {
   "cell_type": "code",
   "execution_count": 84,
   "metadata": {},
   "outputs": [
    {
     "name": "stdout",
     "output_type": "stream",
     "text": [
      "241 ns ± 4.05 ns per loop (mean ± std. dev. of 7 runs, 1,000,000 loops each)\n"
     ]
    }
   ],
   "source": [
    "%timeit test1()"
   ]
  },
  {
   "cell_type": "code",
   "execution_count": 85,
   "metadata": {},
   "outputs": [
    {
     "name": "stdout",
     "output_type": "stream",
     "text": [
      "1.14 µs ± 7.33 ns per loop (mean ± std. dev. of 7 runs, 1,000,000 loops each)\n"
     ]
    }
   ],
   "source": [
    "%timeit test2()"
   ]
  },
  {
   "cell_type": "code",
   "execution_count": null,
   "metadata": {},
   "outputs": [],
   "source": []
  }
 ],
 "metadata": {
  "kernelspec": {
   "display_name": "Python 3.10.0 ('phd_mask')",
   "language": "python",
   "name": "python3"
  },
  "language_info": {
   "codemirror_mode": {
    "name": "ipython",
    "version": 3
   },
   "file_extension": ".py",
   "mimetype": "text/x-python",
   "name": "python",
   "nbconvert_exporter": "python",
   "pygments_lexer": "ipython3",
   "version": "3.10.0 (default, Nov 10 2021, 11:24:47) [Clang 12.0.0 ]"
  },
  "orig_nbformat": 4,
  "vscode": {
   "interpreter": {
    "hash": "a3a6fc72abd763eb125834065b6047171dc313ddda04b6b04a8b85b371691e10"
   }
  }
 },
 "nbformat": 4,
 "nbformat_minor": 2
}
