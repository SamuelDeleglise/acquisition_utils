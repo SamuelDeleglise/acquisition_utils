{
 "cells": [
  {
   "cell_type": "code",
   "execution_count": 1,
   "metadata": {},
   "outputs": [
    {
     "name": "stdout",
     "output_type": "stream",
     "text": [
      "Kernel is started\n"
     ]
    }
   ],
   "source": [
    "import smart_import"
   ]
  },
  {
   "cell_type": "code",
   "execution_count": 2,
   "metadata": {},
   "outputs": [],
   "source": [
    "from quanalys.acquisition_notebook import AcquisitionNotebookManager"
   ]
  },
  {
   "cell_type": "code",
   "execution_count": 3,
   "metadata": {},
   "outputs": [],
   "source": [
    "aqm = AcquisitionNotebookManager(\"tmp_data\")"
   ]
  },
  {
   "cell_type": "code",
   "execution_count": 4,
   "metadata": {},
   "outputs": [],
   "source": [
    "%%acquisition_cell test1\n",
    "\n",
    "aqm.save_acquisition(x=3)"
   ]
  },
  {
   "cell_type": "code",
   "execution_count": 5,
   "metadata": {},
   "outputs": [
    {
     "name": "stdout",
     "output_type": "stream",
     "text": [
      "analysic_cell\n"
     ]
    },
    {
     "data": {
      "text/plain": [
       "AnalysisData: \n",
       " {\n",
       "    \"x\": \"variable of type int64\"\n",
       "}"
      ]
     },
     "execution_count": 5,
     "metadata": {},
     "output_type": "execute_result"
    }
   ],
   "source": [
    "%%analysic_cell\n",
    "\n",
    "aqm.data\n"
   ]
  }
 ],
 "metadata": {
  "kernelspec": {
   "display_name": "phd_mask",
   "language": "python",
   "name": "python3"
  },
  "language_info": {
   "codemirror_mode": {
    "name": "ipython",
    "version": 3
   },
   "file_extension": ".py",
   "mimetype": "text/x-python",
   "name": "python",
   "nbconvert_exporter": "python",
   "pygments_lexer": "ipython3",
   "version": "3.10.0"
  },
  "orig_nbformat": 4,
  "vscode": {
   "interpreter": {
    "hash": "a3a6fc72abd763eb125834065b6047171dc313ddda04b6b04a8b85b371691e10"
   }
  }
 },
 "nbformat": 4,
 "nbformat_minor": 2
}
