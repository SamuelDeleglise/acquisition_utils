{
 "cells": [
  {
   "cell_type": "code",
   "execution_count": 6,
   "metadata": {},
   "outputs": [],
   "source": [
    "import smart_import"
   ]
  },
  {
   "cell_type": "code",
   "execution_count": 7,
   "metadata": {},
   "outputs": [],
   "source": [
    "from quanalys.acquisition_notebook import AcquisitionNotebookManager"
   ]
  }
 ],
 "metadata": {
  "kernelspec": {
   "display_name": "phd_mask",
   "language": "python",
   "name": "python3"
  },
  "language_info": {
   "codemirror_mode": {
    "name": "ipython",
    "version": 3
   },
   "file_extension": ".py",
   "mimetype": "text/x-python",
   "name": "python",
   "nbconvert_exporter": "python",
   "pygments_lexer": "ipython3",
   "version": "3.10.0 (default, Nov 10 2021, 11:24:47) [Clang 12.0.0 ]"
  },
  "orig_nbformat": 4,
  "vscode": {
   "interpreter": {
    "hash": "a3a6fc72abd763eb125834065b6047171dc313ddda04b6b04a8b85b371691e10"
   }
  }
 },
 "nbformat": 4,
 "nbformat_minor": 2
}
