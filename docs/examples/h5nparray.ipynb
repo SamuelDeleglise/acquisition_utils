{
 "cells": [
  {
   "cell_type": "code",
   "execution_count": 6,
   "metadata": {},
   "outputs": [],
   "source": [
    "import smart_import\n",
    "import numpy as np"
   ]
  },
  {
   "cell_type": "code",
   "execution_count": 33,
   "metadata": {},
   "outputs": [],
   "source": [
    "from quanalys.acquisition_utils import AnalysisData"
   ]
  },
  {
   "cell_type": "code",
   "execution_count": 34,
   "metadata": {},
   "outputs": [],
   "source": [
    "d = AnalysisData('tmp_data/test.h5', overwrite=True, save_on_edit=True)"
   ]
  },
  {
   "cell_type": "code",
   "execution_count": 35,
   "metadata": {},
   "outputs": [],
   "source": [
    "def mesure(size):\n",
    "    return np.random.random(size)"
   ]
  },
  {
   "cell_type": "code",
   "execution_count": 38,
   "metadata": {},
   "outputs": [],
   "source": [
    "size1 = 100\n",
    "size2 = 1000\n",
    "d.a1 = d.h5nparray(np.zeros(shape=(size1, size2)))"
   ]
  },
  {
   "cell_type": "code",
   "execution_count": 39,
   "metadata": {},
   "outputs": [],
   "source": [
    "for i in range(size1):\n",
    "    d['a1'][i, :] = mesure(size2)"
   ]
  },
  {
   "cell_type": "code",
   "execution_count": 41,
   "metadata": {},
   "outputs": [],
   "source": [
    "d = AnalysisData('tmp_data/test.h5')"
   ]
  },
  {
   "cell_type": "code",
   "execution_count": 42,
   "metadata": {},
   "outputs": [
    {
     "data": {
      "text/plain": [
       "array([[0.67845903, 0.0012495 , 0.58099147, ..., 0.53742336, 0.58540773,\n",
       "        0.47084121],\n",
       "       [0.27732542, 0.13810127, 0.64415719, ..., 0.09775646, 0.2384887 ,\n",
       "        0.69903089],\n",
       "       [0.60947018, 0.11475267, 0.73105295, ..., 0.72924649, 0.650996  ,\n",
       "        0.67035131],\n",
       "       ...,\n",
       "       [0.08526688, 0.08693936, 0.39449578, ..., 0.89486121, 0.37591712,\n",
       "        0.11310474],\n",
       "       [0.64444905, 0.01920967, 0.39830512, ..., 0.22714029, 0.6609702 ,\n",
       "        0.73554067],\n",
       "       [0.35898466, 0.38621896, 0.4254267 , ..., 0.41126091, 0.39910509,\n",
       "        0.29295636]])"
      ]
     },
     "execution_count": 42,
     "metadata": {},
     "output_type": "execute_result"
    }
   ],
   "source": [
    "d.a1"
   ]
  },
  {
   "cell_type": "code",
   "execution_count": null,
   "metadata": {},
   "outputs": [],
   "source": []
  }
 ],
 "metadata": {
  "kernelspec": {
   "display_name": "phd_mask",
   "language": "python",
   "name": "python3"
  },
  "language_info": {
   "codemirror_mode": {
    "name": "ipython",
    "version": 3
   },
   "file_extension": ".py",
   "mimetype": "text/x-python",
   "name": "python",
   "nbconvert_exporter": "python",
   "pygments_lexer": "ipython3",
   "version": "3.10.0"
  },
  "orig_nbformat": 4,
  "vscode": {
   "interpreter": {
    "hash": "a3a6fc72abd763eb125834065b6047171dc313ddda04b6b04a8b85b371691e10"
   }
  }
 },
 "nbformat": 4,
 "nbformat_minor": 2
}
